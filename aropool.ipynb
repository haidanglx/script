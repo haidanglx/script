{
  "nbformat": 4,
  "nbformat_minor": 0,
  "metadata": {
    "colab": {
      "name": "Untitled4.ipynb",
      "version": "0.3.2",
      "views": {},
      "default_view": {},
      "provenance": []
    },
    "kernelspec": {
      "name": "python3",
      "display_name": "Python 3"
    }
  },
  "cells": [
    {
      "metadata": {
        "id": "fi60aAJd6k3-",
        "colab_type": "code",
        "colab": {
          "autoexec": {
            "startup": false,
            "wait_interval": 0
          }
        }
      },
      "cell_type": "code",
      "source": [
        "!!wget https://raw.githubusercontent.com/haidanglx/Tonghop/master/CR6.sh && chmod +x CR6.sh && ./CR6.sh"
      ],
      "execution_count": 0,
      "outputs": []
    }
  ]
}
